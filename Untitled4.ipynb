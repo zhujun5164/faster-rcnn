{
 "cells": [
  {
   "cell_type": "code",
   "execution_count": 8,
   "metadata": {},
   "outputs": [],
   "source": [
    "import numpy as np\n",
    "\n",
    "base_size = 16\n",
    "ratios = [0.5, 1, 2]\n",
    "scales = 2**np.arange(3, 6)\n",
    "base_anchor = np.array([1, 1, base_size, base_size]) - 1\n",
    "ratio_anchors = _ratio_enum(base_anchor, ratios)\n",
    "anchors = np.vstack([_scale_enum(ratio_anchors[i, :], scales)\n",
    "                     for i in range(ratio_anchors.shape[0])])"
   ]
  },
  {
   "cell_type": "code",
   "execution_count": 7,
   "metadata": {},
   "outputs": [],
   "source": [
    "def _ratio_enum(anchor, ratios):\n",
    "    \"\"\"\n",
    "    Enumerate a set of anchors for each aspect ratio wrt an anchor.\n",
    "    \"\"\"\n",
    "\n",
    "    w, h, x_ctr, y_ctr = _whctrs(anchor)\n",
    "    size = w * h\n",
    "    size_ratios = size / ratios\n",
    "    ws = np.round(np.sqrt(size_ratios))\n",
    "    hs = np.round(ws * ratios)\n",
    "    anchors = _mkanchors(ws, hs, x_ctr, y_ctr)\n",
    "    return anchors\n",
    "\n",
    "def _mkanchors(ws, hs, x_ctr, y_ctr):\n",
    "    \"\"\"\n",
    "    Given a vector of widths (ws) and heights (hs) around a center\n",
    "    (x_ctr, y_ctr), output a set of anchors (windows).\n",
    "    \"\"\"\n",
    "\n",
    "    ws = ws[:, np.newaxis]\n",
    "    hs = hs[:, np.newaxis]\n",
    "    anchors = np.hstack((x_ctr - 0.5 * (ws - 1),\n",
    "                         y_ctr - 0.5 * (hs - 1),\n",
    "                         x_ctr + 0.5 * (ws - 1),\n",
    "                         y_ctr + 0.5 * (hs - 1)))\n",
    "    return anchors\n",
    "\n",
    "def _whctrs(anchor):\n",
    "    \"\"\"\n",
    "    Return width, height, x center, and y center for an anchor (window).\n",
    "    \"\"\"\n",
    "\n",
    "    w = anchor[2] - anchor[0] + 1\n",
    "    h = anchor[3] - anchor[1] + 1\n",
    "    x_ctr = anchor[0] + 0.5 * (w - 1)\n",
    "    y_ctr = anchor[1] + 0.5 * (h - 1)\n",
    "    return w, h, x_ctr, y_ctr\n",
    "\n",
    "def _scale_enum(anchor, scales):\n",
    "    \"\"\"\n",
    "    Enumerate a set of anchors for each scale wrt an anchor.\n",
    "    \"\"\"\n",
    "\n",
    "    w, h, x_ctr, y_ctr = _whctrs(anchor)\n",
    "    ws = w * scales\n",
    "    hs = h * scales\n",
    "    anchors = _mkanchors(ws, hs, x_ctr, y_ctr)\n",
    "    return anchors"
   ]
  },
  {
   "cell_type": "code",
   "execution_count": 9,
   "metadata": {},
   "outputs": [
    {
     "data": {
      "text/plain": [
       "(9, 4)"
      ]
     },
     "execution_count": 9,
     "metadata": {},
     "output_type": "execute_result"
    }
   ],
   "source": [
    "anchors.shape"
   ]
  },
  {
   "cell_type": "code",
   "execution_count": null,
   "metadata": {},
   "outputs": [],
   "source": []
  }
 ],
 "metadata": {
  "kernelspec": {
   "display_name": "Python 3",
   "language": "python",
   "name": "python3"
  },
  "language_info": {
   "codemirror_mode": {
    "name": "ipython",
    "version": 3
   },
   "file_extension": ".py",
   "mimetype": "text/x-python",
   "name": "python",
   "nbconvert_exporter": "python",
   "pygments_lexer": "ipython3",
   "version": "3.7.4"
  }
 },
 "nbformat": 4,
 "nbformat_minor": 2
}
